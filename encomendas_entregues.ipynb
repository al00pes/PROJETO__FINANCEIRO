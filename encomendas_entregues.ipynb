{
 "cells": [
  {
   "cell_type": "code",
   "execution_count": 27,
   "id": "f579df2b-2a17-4bc5-907f-bbe703678e76",
   "metadata": {
    "tags": []
   },
   "outputs": [],
   "source": [
    "#Ignorar os erros\n",
    "import warnings\n",
    "warnings.filterwarnings('ignore')\n",
    "#pandas\n",
    "import pandas as pd \n",
    "\n",
    "import matplotlib.pyplot as plt\n",
    "import matplotlib as mpl\n",
    "import locale\n",
    "import matplotlib.ticker as ticker\n",
    "from matplotlib.ticker import StrMethodFormatter\n",
    "from google.cloud import storage"
   ]
  },
  {
   "cell_type": "code",
   "execution_count": null,
   "id": "19d7eaa1-a63e-4ce6-9237-79ef7fdea0d7",
   "metadata": {},
   "outputs": [],
   "source": [
    "INSTANCIANDO A CHAVE DE ACESSO PARA TER ACESSO AO STORAGE DA GOOGLE CLOUD"
   ]
  },
  {
   "cell_type": "code",
   "execution_count": 30,
   "id": "7837c330-e200-49aa-87af-6efc47cd961e",
   "metadata": {
    "tags": []
   },
   "outputs": [],
   "source": [
    "#instanciar o local que encontra a credencial\n",
    "client = storage.Client.from_service_account_json('./financeiro-01-5b91f.json')"
   ]
  },
  {
   "cell_type": "code",
   "execution_count": 31,
   "id": "054e3ca6-9a2f-4493-bb14-88f59310e782",
   "metadata": {
    "tags": []
   },
   "outputs": [],
   "source": [
    "#Definindo função para fazer upload no storage google cloud\n",
    "\n",
    "def upload_blob(bucket_name, source_file_name, destination_blob_name):\n",
    "   #Fazer upload para o storage do google storage\n",
    "    bucket = client.get_bucket(bucket_name)\n",
    "    blob = bucket.blob(destination_blob_name)\n",
    "\n",
    "    blob.upload_from_filename(source_file_name)\n",
    "\n",
    "    print(f'Arquivo {source_file_name} enviado para {destination_blob_name} no bucket {bucket_name}.')"
   ]
  },
  {
   "cell_type": "code",
   "execution_count": 34,
   "id": "3077296b-28d7-4eaf-9be0-599da744cb51",
   "metadata": {
    "tags": []
   },
   "outputs": [
    {
     "name": "stdout",
     "output_type": "stream",
     "text": [
      "Arquivo ./bronze/fev_01_15.csv enviado para bronze no bucket produtos_entregues.\n"
     ]
    }
   ],
   "source": [
    "#Salvando os dados brutos na camada bronze do bucket\n",
    "\n",
    "upload_blob('produtos_entregues','./bronze/fev_01_15.csv','bronze')"
   ]
  },
  {
   "cell_type": "code",
   "execution_count": 35,
   "id": "0d7ce086-d17b-4a60-9287-0d25e31f375d",
   "metadata": {
    "tags": []
   },
   "outputs": [
    {
     "name": "stdout",
     "output_type": "stream",
     "text": [
      "Arquivo ./bronze/fev_16_29.csv enviado para bronze no bucket produtos_entregues.\n"
     ]
    }
   ],
   "source": [
    "upload_blob('produtos_entregues','./bronze/fev_16_29.csv','bronze')"
   ]
  },
  {
   "cell_type": "markdown",
   "id": "602a6c2a-24d8-47aa-9215-9e5281f9b235",
   "metadata": {},
   "source": [
    "IMPORTANDO OS DATASET EM CSV, TRANSFORMAR EM DATAFRAME E CONCATENAR\n",
    "PARA SER APENAS UM DATAFRAME."
   ]
  },
  {
   "cell_type": "markdown",
   "id": "7a103794-0505-4418-b93c-2adb90050913",
   "metadata": {
    "tags": []
   },
   "source": [
    "# PRÉ PROCESSAMENTO DOS DADOS "
   ]
  },
  {
   "cell_type": "code",
   "execution_count": 37,
   "id": "60d627be-2a36-4f62-b3c3-28c9ef9c0b5c",
   "metadata": {
    "tags": []
   },
   "outputs": [],
   "source": [
    "#importando o dataset\n",
    "\n",
    "#Dataset 01 ao 15/02/2024\n",
    "df_pacotes_entregues_1 = pd.read_csv('./bronze/fev_01_15.csv',delimiter=';')\n",
    "\n",
    "#Dataset 16 ao 29/02/2024\n",
    "df_pacotes_entregues_2 = pd.read_csv('./bronze/fev_16_29.csv',delimiter=';')\n",
    "\n",
    "#Concatemando os dataframe\n",
    "df_pacotes_entregues = pd.concat([df_pacotes_entregues_1,df_pacotes_entregues_2])\n",
    "\n",
    "#Exibindo o dataframe\n",
    "\n",
    "#df_pacotes_entregues.head(2)"
   ]
  },
  {
   "cell_type": "code",
   "execution_count": 38,
   "id": "5cba8941-8626-4a48-b0f2-0e0dba7f7644",
   "metadata": {
    "tags": []
   },
   "outputs": [],
   "source": [
    "#Modificando o nome das colunas \n",
    "\n",
    "df_pacotes_entregues.rename(columns={'Número de pedido':'ID_PEDIDO',\n",
    "                                    'Franqueado':'TRANSPORTADORA',\n",
    "                                     'Responsável pela entrega':'MOTORISTA',\n",
    "                                     'Valor Mercadoria':'VALOR_ENCOMENDA',\n",
    "                                     'CEP destino':'CEP',\n",
    "                                     'Marca de assinatura':'ENTREGUE',\n",
    "                                     'Endereço completo':'ENDERECO_COMPLETO',\n",
    "                                     'Cidade Destino':'CIDADE',\n",
    "                                     'Distrito destinatário':'BAIRRO',\n",
    "                                     'Destinatário':'CLIENTE',\n",
    "                                     'Horário da entrega':'DATA_ENTREGA',\n",
    "                                     'Base de entrega':'GALPAO_ENTREGA',\n",
    "                                     'Peso cobrável':'PESO_PRODUTO',\n",
    "                                     'CNPJ':'CPF_CNPJ',\n",
    "                                     'Origem':'ORIGEM',\n",
    "                                     'Estado Remetente':'ESTADO_ORIGEM',\n",
    "                                     'Cidade de Origem':'CIDADE_ORIGEM'}, inplace=True)\n",
    "\n",
    "#Excluído coluna \n",
    "\n",
    "df_pacotes_entregues.drop(['Tipo de Produto','ORIGEM'],axis=1,inplace=True)\n",
    "\n",
    "#Exibindo o dataframe\n",
    "#df_pacotes_entregues.head(1)"
   ]
  },
  {
   "cell_type": "markdown",
   "id": "6adfe5c0-23cc-46a7-afee-0b22a6c32a20",
   "metadata": {},
   "source": [
    "Observando a dimensão do dataframe utilizando .shape\n",
    "Essa função retorna o numero de linhas e o numero de colunas\n",
    "(linhas, colunas)"
   ]
  },
  {
   "cell_type": "code",
   "execution_count": 39,
   "id": "3c0324a4-4abf-46a1-b3ab-d0d9e7c10988",
   "metadata": {
    "tags": []
   },
   "outputs": [
    {
     "data": {
      "text/plain": [
       "(609837, 16)"
      ]
     },
     "execution_count": 39,
     "metadata": {},
     "output_type": "execute_result"
    }
   ],
   "source": [
    "#Verificando a dimensão\n",
    "\n",
    "df_pacotes_entregues.shape"
   ]
  },
  {
   "cell_type": "markdown",
   "id": "4fdf151e-bc1a-42bf-b7fe-6a17ba9d8201",
   "metadata": {},
   "source": [
    "A função dataframe.isnull() retorna se existe valores nulos,\n",
    "mas o retorno é em forma boleana ( False or True). Então utilizei também\n",
    ".sum(), dessa forma a saída é em forma de numero.\n"
   ]
  },
  {
   "cell_type": "code",
   "execution_count": 40,
   "id": "81fa6137-d0a4-402c-93a0-9fc2ae999b40",
   "metadata": {
    "tags": []
   },
   "outputs": [
    {
     "data": {
      "text/plain": [
       "ID_PEDIDO             0\n",
       "TRANSPORTADORA        0\n",
       "GALPAO_ENTREGA        0\n",
       "MOTORISTA             0\n",
       "ENTREGUE              0\n",
       "VALOR_ENCOMENDA       0\n",
       "CEP                   0\n",
       "ENDERECO_COMPLETO     0\n",
       "CIDADE                0\n",
       "BAIRRO               40\n",
       "CLIENTE               0\n",
       "DATA_ENTREGA          0\n",
       "CPF_CNPJ              0\n",
       "PESO_PRODUTO          0\n",
       "ESTADO_ORIGEM         0\n",
       "CIDADE_ORIGEM         0\n",
       "dtype: int64"
      ]
     },
     "execution_count": 40,
     "metadata": {},
     "output_type": "execute_result"
    }
   ],
   "source": [
    "#Verificando os nulos\n",
    "df_pacotes_entregues.isnull().sum()"
   ]
  },
  {
   "cell_type": "markdown",
   "id": "56e1e6cf-75a0-43f1-86f7-c39106b2e42f",
   "metadata": {},
   "source": [
    "O dataframe possui 40 valores nulos no atributos Bairro e 39 no atributos\n",
    "origem. Como conheço o dataset, irei tratar os missings do atributo Bairro com o valor\n",
    "\"BAIRRO INEXISTENTE\" e os missings do atributo origem, com o mesmo nomes que possui no \n",
    "atributo 'CIDADE ORIGEM'"
   ]
  },
  {
   "cell_type": "markdown",
   "id": "6bdcb9e5-7218-4b81-aac4-905c8500411d",
   "metadata": {},
   "source": [
    "Abaixo especifiquei o atribuido que desejo modificar\n",
    "a função .fillna() substitui os valor nulos na string ('BAIRRO INEXISTENTE')\n",
    "e dentro da função, utilizei inplace-True, para salvar a alteração."
   ]
  },
  {
   "cell_type": "code",
   "execution_count": 41,
   "id": "8df48f57-bbfd-4e42-b6de-32ca9037bfaf",
   "metadata": {
    "tags": []
   },
   "outputs": [],
   "source": [
    "#Modificando os missings em 'BAIRRO INEXISTENTE'\n",
    "df_pacotes_entregues['BAIRRO'].fillna('BAIRRO INEXISTENTE',inplace=True)"
   ]
  },
  {
   "cell_type": "markdown",
   "id": "01f1105c-6b07-4796-b9aa-5e2a2e3abef2",
   "metadata": {},
   "source": [
    "Para ter uma melhor consulta e melhorar os dados,\n",
    "irei modificar toda as string para que elas estejam em letras maiusculas com o .upper()\n",
    "o .str(), foi utilizado antes para especificar que é uma string."
   ]
  },
  {
   "cell_type": "code",
   "execution_count": 42,
   "id": "9005acd8-ab69-4592-bee5-f9a11bedcb07",
   "metadata": {
    "tags": []
   },
   "outputs": [],
   "source": [
    "#modificando as string para maiusculas - PADRONIZANDO OS VALORES\n",
    "\n",
    "df_pacotes_entregues['MOTORISTA'] = df_pacotes_entregues['MOTORISTA'].str.upper()\n",
    "\n",
    "df_pacotes_entregues['CIDADE'] = df_pacotes_entregues['CIDADE'].str.upper()\n",
    "\n",
    "df_pacotes_entregues['BAIRRO'] = df_pacotes_entregues['BAIRRO'].str.upper()\n",
    "\n",
    "df_pacotes_entregues['CLIENTE'] = df_pacotes_entregues['CLIENTE'].str.upper()\n",
    "\n",
    "df_pacotes_entregues['ENTREGUE'] = df_pacotes_entregues['ENTREGUE'].str.upper()\n",
    "\n",
    "df_pacotes_entregues['ENDERECO_COMPLETO'] = df_pacotes_entregues['ENDERECO_COMPLETO'].str.upper()\n",
    "\n",
    "df_pacotes_entregues['GALPAO_ENTREGA'] = df_pacotes_entregues['GALPAO_ENTREGA'].str.upper()\n",
    "\n",
    "#df_pacotes_entregues['ORIGEM'] = df_pacotes_entregues['ORIGEM'].str.upper()\n",
    "\n",
    "df_pacotes_entregues['ESTADO_ORIGEM'] = df_pacotes_entregues['ESTADO_ORIGEM'].str.upper()\n",
    "\n",
    "df_pacotes_entregues['CIDADE_ORIGEM'] = df_pacotes_entregues['CIDADE_ORIGEM'].str.upper()\n",
    "\n",
    "\n",
    "#Exibindo o dataframe\n",
    "\n",
    "#df_pacotes_entregues.head(2)"
   ]
  },
  {
   "cell_type": "code",
   "execution_count": 43,
   "id": "884c9cb6-9e86-45b1-bdca-861c6e5a2890",
   "metadata": {
    "tags": []
   },
   "outputs": [
    {
     "name": "stdout",
     "output_type": "stream",
     "text": [
      "<class 'pandas.core.frame.DataFrame'>\n",
      "Index: 609837 entries, 0 to 287439\n",
      "Data columns (total 16 columns):\n",
      " #   Column             Non-Null Count   Dtype \n",
      "---  ------             --------------   ----- \n",
      " 0   ID_PEDIDO          609837 non-null  int64 \n",
      " 1   TRANSPORTADORA     609837 non-null  object\n",
      " 2   GALPAO_ENTREGA     609837 non-null  object\n",
      " 3   MOTORISTA          609837 non-null  object\n",
      " 4   ENTREGUE           609837 non-null  object\n",
      " 5   VALOR_ENCOMENDA    609837 non-null  object\n",
      " 6   CEP                609837 non-null  int64 \n",
      " 7   ENDERECO_COMPLETO  609837 non-null  object\n",
      " 8   CIDADE             609837 non-null  object\n",
      " 9   BAIRRO             609837 non-null  object\n",
      " 10  CLIENTE            609837 non-null  object\n",
      " 11  DATA_ENTREGA       609837 non-null  object\n",
      " 12  CPF_CNPJ           609837 non-null  int64 \n",
      " 13  PESO_PRODUTO       609837 non-null  object\n",
      " 14  ESTADO_ORIGEM      609837 non-null  object\n",
      " 15  CIDADE_ORIGEM      609837 non-null  object\n",
      "dtypes: int64(3), object(13)\n",
      "memory usage: 79.1+ MB\n"
     ]
    }
   ],
   "source": [
    "#exibindo as informações dos tipos dos atributos\n",
    "df_pacotes_entregues.info()"
   ]
  },
  {
   "cell_type": "code",
   "execution_count": 44,
   "id": "455b306a-cfe2-48a8-a459-35a6198e85cf",
   "metadata": {
    "tags": []
   },
   "outputs": [],
   "source": [
    "#Modificando o tipo do atributo para int\n",
    "\n",
    "df_pacotes_entregues['CPF_CNPJ'] = df_pacotes_entregues['CPF_CNPJ'].astype(int)\n",
    "\n",
    "#exibindo\n",
    "#df_pacotes_entregues.info()"
   ]
  },
  {
   "cell_type": "markdown",
   "id": "284950ff-148d-4849-803a-42b7a7481d13",
   "metadata": {},
   "source": [
    "Substituir a virgula por ponto, assim consigo converter o atributo para float"
   ]
  },
  {
   "cell_type": "code",
   "execution_count": 45,
   "id": "91a77b0b-03e9-43d8-bad1-24833c97120e",
   "metadata": {
    "tags": []
   },
   "outputs": [],
   "source": [
    "#modifica a virgula por ponto\n",
    "\n",
    "df_pacotes_entregues['VALOR_ENCOMENDA'] = df_pacotes_entregues['VALOR_ENCOMENDA'].str.replace(',','.')\n",
    "\n",
    "df_pacotes_entregues['PESO_PRODUTO'] = df_pacotes_entregues['PESO_PRODUTO'].str.replace(',','.')\n",
    "\n",
    "#Exibindo\n",
    "#df_pacotes_entregues.head(2)"
   ]
  },
  {
   "cell_type": "code",
   "execution_count": 46,
   "id": "d06bd058-4fad-4384-bd41-168f6a4dc002",
   "metadata": {
    "tags": []
   },
   "outputs": [],
   "source": [
    "#transformando o atributo em float utilizando a função .astype()\n",
    "\n",
    "df_pacotes_entregues['VALOR_ENCOMENDA'] = df_pacotes_entregues['VALOR_ENCOMENDA'].astype(float)\n",
    "\n",
    "df_pacotes_entregues['PESO_PRODUTO'] = df_pacotes_entregues['PESO_PRODUTO'].astype(float)\n",
    "\n",
    "#exibindo as info do dataframe\n",
    "#df_pacotes_entregues.info()"
   ]
  },
  {
   "cell_type": "code",
   "execution_count": 47,
   "id": "9a73b84a-6ec0-460a-8f62-bc2417a26f4e",
   "metadata": {
    "tags": []
   },
   "outputs": [
    {
     "data": {
      "text/plain": [
       "0    2024-02-15\n",
       "1    2024-02-15\n",
       "2    2024-02-15\n",
       "3    2024-02-15\n",
       "4    2024-02-15\n",
       "Name: DATA_ENTREGA, dtype: object"
      ]
     },
     "execution_count": 47,
     "metadata": {},
     "output_type": "execute_result"
    }
   ],
   "source": [
    "#transformando no tipo datetime\n",
    "df_pacotes_entregues['DATA_ENTREGA'] = pd.to_datetime(df_pacotes_entregues['DATA_ENTREGA'])\n",
    "\n",
    "#Extrair somente a data\n",
    "df_pacotes_entregues['DATA_ENTREGA'] = df_pacotes_entregues['DATA_ENTREGA'].dt.date\n",
    "\n",
    "#exibindo o dataframe\n",
    "df_pacotes_entregues['DATA_ENTREGA'].head()\n"
   ]
  },
  {
   "cell_type": "code",
   "execution_count": 51,
   "id": "9c8ded03-63a7-42bf-95bb-35e55cc97427",
   "metadata": {
    "tags": []
   },
   "outputs": [
    {
     "name": "stdout",
     "output_type": "stream",
     "text": [
      "<class 'pandas.core.series.Series'>\n",
      "Index: 609837 entries, 0 to 287439\n",
      "Series name: DATA_ENTREGA\n",
      "Non-Null Count   Dtype         \n",
      "--------------   -----         \n",
      "609837 non-null  datetime64[ns]\n",
      "dtypes: datetime64[ns](1)\n",
      "memory usage: 9.3 MB\n"
     ]
    }
   ],
   "source": [
    "#Transformando novamente para datetime, porque quando extrai somente a data\n",
    "# o atributo é convertido para string(object)\n",
    "\n",
    "df_pacotes_entregues['DATA_ENTREGA'] = pd.to_datetime(df_pacotes_entregues['DATA_ENTREGA'])\n",
    "\n",
    "df_pacotes_entregues['DATA_ENTREGA'].info()"
   ]
  },
  {
   "cell_type": "code",
   "execution_count": 23,
   "id": "ca539d4b-c528-4a37-a20c-b704e112ef8a",
   "metadata": {
    "tags": []
   },
   "outputs": [
    {
     "data": {
      "text/plain": [
       "ID_PEDIDO                     int64\n",
       "TRANSPORTADORA               object\n",
       "GALPAO_ENTREGA               object\n",
       "MOTORISTA                    object\n",
       "ENTREGUE                     object\n",
       "VALOR_ENCOMENDA             float64\n",
       "CEP                           int64\n",
       "ENDERECO_COMPLETO            object\n",
       "CIDADE                       object\n",
       "BAIRRO                       object\n",
       "CLIENTE                      object\n",
       "DATA_ENTREGA         datetime64[ns]\n",
       "CPF_CNPJ                      int64\n",
       "PESO_PRODUTO                float64\n",
       "ESTADO_ORIGEM                object\n",
       "CIDADE_ORIGEM                object\n",
       "dtype: object"
      ]
     },
     "execution_count": 23,
     "metadata": {},
     "output_type": "execute_result"
    }
   ],
   "source": [
    "#exibindo os valores nulos\n",
    "df_pacotes_entregues.dtypes"
   ]
  },
  {
   "cell_type": "code",
   "execution_count": 52,
   "id": "23804106-8faa-4d3c-9125-eaae197cde2d",
   "metadata": {
    "tags": []
   },
   "outputs": [
    {
     "data": {
      "text/plain": [
       "(609837, 16)"
      ]
     },
     "execution_count": 52,
     "metadata": {},
     "output_type": "execute_result"
    }
   ],
   "source": [
    "#Verificando a dimensão do dataframe\n",
    "df_pacotes_entregues.shape"
   ]
  },
  {
   "cell_type": "code",
   "execution_count": 53,
   "id": "980c50c1-f9fe-4a7d-a4c6-d0473db464f6",
   "metadata": {
    "tags": []
   },
   "outputs": [],
   "source": [
    "#Esse comando localizando o nome do veículo dentro da linha e salva na coluna TIPO_DE_VEICULO\n",
    "#o nome nome referente.\n",
    "\n",
    "df_pacotes_entregues.loc[df_pacotes_entregues['MOTORISTA'].str.contains('CARRO'),'TIPO_DE_VEICULO'] = 'CARRO'\n",
    "\n",
    "df_pacotes_entregues.loc[df_pacotes_entregues['MOTORISTA'].str.contains('MOTO'),'TIPO_DE_VEICULO'] = 'MOTO'\n",
    "\n",
    "df_pacotes_entregues.loc[df_pacotes_entregues['MOTORISTA'].str.contains('BIKE'),'TIPO_DE_VEICULO'] = 'BIKE'"
   ]
  },
  {
   "cell_type": "code",
   "execution_count": 55,
   "id": "5202a263-3cb4-4381-817b-d634fc3003b8",
   "metadata": {
    "tags": []
   },
   "outputs": [
    {
     "data": {
      "text/plain": [
       "Index(['ID_PEDIDO', 'TRANSPORTADORA', 'GALPAO_ENTREGA', 'MOTORISTA',\n",
       "       'ENTREGUE', 'VALOR_ENCOMENDA', 'CEP', 'ENDERECO_COMPLETO', 'CIDADE',\n",
       "       'BAIRRO', 'CLIENTE', 'DATA_ENTREGA', 'CPF_CNPJ', 'PESO_PRODUTO',\n",
       "       'ESTADO_ORIGEM', 'CIDADE_ORIGEM', 'VEICULO'],\n",
       "      dtype='object')"
      ]
     },
     "execution_count": 55,
     "metadata": {},
     "output_type": "execute_result"
    }
   ],
   "source": [
    "#Renomenando a coluna TIPO_DE_VEICULO para VEICULO\n",
    "\n",
    "df_pacotes_entregues.rename(columns={'TIPO_DE_VEICULO':'VEICULO'},inplace=True)\n",
    "\n",
    "#Exibindo os nomes da colunas \n",
    "df_pacotes_entregues.columns"
   ]
  },
  {
   "cell_type": "code",
   "execution_count": 56,
   "id": "68bf83ca-7426-4dda-accd-a1909ef18dd2",
   "metadata": {
    "tags": []
   },
   "outputs": [
    {
     "data": {
      "text/plain": [
       "array(['CARRO', 'MOTO', 'BIKE', nan], dtype=object)"
      ]
     },
     "execution_count": 56,
     "metadata": {},
     "output_type": "execute_result"
    }
   ],
   "source": [
    "#Verificando os veiculos\n",
    "\n",
    "df_pacotes_entregues['VEICULO'].unique()"
   ]
  },
  {
   "cell_type": "code",
   "execution_count": 57,
   "id": "b53e9bd0-cc34-4b2a-9bfc-e248c3908bcd",
   "metadata": {
    "tags": []
   },
   "outputs": [
    {
     "data": {
      "text/plain": [
       "402"
      ]
     },
     "execution_count": 57,
     "metadata": {},
     "output_type": "execute_result"
    }
   ],
   "source": [
    "df_pacotes_entregues['VEICULO'].isnull().sum()"
   ]
  },
  {
   "cell_type": "code",
   "execution_count": 59,
   "id": "80a8530c-2731-4b3e-a31e-c04bb3ffb936",
   "metadata": {
    "tags": []
   },
   "outputs": [
    {
     "data": {
      "text/plain": [
       "0"
      ]
     },
     "execution_count": 59,
     "metadata": {},
     "output_type": "execute_result"
    }
   ],
   "source": [
    "#Verificando os valores que são nulos\n",
    "df_pacotes_entregues[df_pacotes_entregues['VEICULO'].isna()]\n",
    "\n",
    "#Substituindo os valores valores nulos por 'CARRO'\n",
    "df_pacotes_entregues['VEICULO'].fillna('CARRO',inplace=True)\n",
    "\n",
    "#Verificando a existencia de mais nulos\n",
    "df_pacotes_entregues['VEICULO'].isnull().sum()"
   ]
  },
  {
   "cell_type": "code",
   "execution_count": 97,
   "id": "254b7b95-191e-4d38-8be9-15c2961f6383",
   "metadata": {
    "tags": []
   },
   "outputs": [
    {
     "name": "stdout",
     "output_type": "stream",
     "text": [
      "Arquivo ./silver/entregas_fevereiro.csv enviado para silver/entregas_fevereiro.csv no bucket produtos_entregues.\n"
     ]
    }
   ],
   "source": [
    "#Exportando os dataframe para csv e salvando na camado Silver\n",
    "\n",
    "df_pacotes_entregues.to_csv('./silver/entregas_fevereiro.csv',encoding='utf-8', index=False)\n",
    "\n",
    "#Salvando os dados tratados na camada silver do bucket da google cloud\n",
    "\n",
    "upload_blob('produtos_entregues','./silver/entregas_fevereiro.csv','silver/entregas_fevereiro.csv')"
   ]
  },
  {
   "cell_type": "markdown",
   "id": "5fb11476-0fa6-4aa3-8cb2-27f686d8610a",
   "metadata": {},
   "source": [
    "# TRATANDO DADOS DOS MOTORISTA "
   ]
  },
  {
   "cell_type": "code",
   "execution_count": 98,
   "id": "a35e2480-7071-40e3-a425-6fea6898e581",
   "metadata": {
    "tags": []
   },
   "outputs": [
    {
     "name": "stdout",
     "output_type": "stream",
     "text": [
      "Arquivo ./bronze/MOTORISTA.csv enviado para bronze/motorista.csv no bucket produtos_entregues.\n"
     ]
    }
   ],
   "source": [
    "#salvando os dados brutos na bronze no storage\n",
    "upload_blob('produtos_entregues','./bronze/MOTORISTA.csv','bronze/motorista.csv')"
   ]
  },
  {
   "cell_type": "code",
   "execution_count": null,
   "id": "46eb8a92-a4a6-4891-ba26-1289053a9182",
   "metadata": {
    "tags": []
   },
   "outputs": [],
   "source": [
    "#Importando o dataset\n",
    "\n",
    "df_motorista = pd.read_csv('./bronze/MOTORISTA.csv', delimiter=';')\n",
    "\n",
    "#Exibindo o dataframe\n",
    "df_motorista.head()"
   ]
  },
  {
   "cell_type": "code",
   "execution_count": 70,
   "id": "4f307929-c5df-4a7d-a833-1762dbf696fb",
   "metadata": {
    "tags": []
   },
   "outputs": [],
   "source": [
    "#Verificando as colunas existente\n",
    "#df_motorista.info()"
   ]
  },
  {
   "cell_type": "code",
   "execution_count": 69,
   "id": "5e9e47ae-6259-4164-b6cd-1b23860165b0",
   "metadata": {
    "tags": []
   },
   "outputs": [],
   "source": [
    "#Exibindo somente as colunas selecionadas\n",
    "df_motorista_colunas = df_motorista.loc[:,['Placa','Nome da sua estação','Nome de tipo de veículo','Nome e Sobrenome CNH','CPF']]"
   ]
  },
  {
   "cell_type": "code",
   "execution_count": 72,
   "id": "820892e4-c41e-4716-a499-7410061df930",
   "metadata": {
    "tags": []
   },
   "outputs": [],
   "source": [
    "#Exbibindo o novo dataframe\n",
    "#df_motorista_colunas.head()"
   ]
  },
  {
   "cell_type": "code",
   "execution_count": 73,
   "id": "3862900d-60be-4054-bd34-e2be16ebe627",
   "metadata": {
    "tags": []
   },
   "outputs": [],
   "source": [
    "#Renomeando os atributos\n",
    "\n",
    "df_motorista_colunas.rename(columns={'Placa':'PLACA',\n",
    "                                     'Nome da sua estação':'NOME_BASE',\n",
    "                                     'Nome de tipo de veículo':'VEICULO',\n",
    "                                     'Nome e Sobrenome CNH':'MOTORISTA',\n",
    "                                     'CPF':'CPF_CNPJ'},inplace=True)"
   ]
  },
  {
   "cell_type": "code",
   "execution_count": 75,
   "id": "ebcb4a82-126c-490a-bbc4-a240f52a89d1",
   "metadata": {
    "tags": []
   },
   "outputs": [
    {
     "data": {
      "text/plain": [
       "(7547, 5)"
      ]
     },
     "execution_count": 75,
     "metadata": {},
     "output_type": "execute_result"
    }
   ],
   "source": [
    "#Verificando a dimensão\n",
    "df_motorista_colunas.shape"
   ]
  },
  {
   "cell_type": "code",
   "execution_count": 76,
   "id": "ceef40f7-253e-4dbf-9059-12c8df51c41d",
   "metadata": {
    "tags": []
   },
   "outputs": [
    {
     "data": {
      "text/plain": [
       "135"
      ]
     },
     "execution_count": 76,
     "metadata": {},
     "output_type": "execute_result"
    }
   ],
   "source": [
    "#Verificando os CPF/CNPJ duplicados\n",
    "\n",
    "df_motorista_colunas.duplicated(subset=['CPF_CNPJ']).sum()"
   ]
  },
  {
   "cell_type": "code",
   "execution_count": 77,
   "id": "460a63b6-28f3-4222-9164-91cf832d7606",
   "metadata": {
    "tags": []
   },
   "outputs": [
    {
     "data": {
      "text/plain": [
       "(7412, 5)"
      ]
     },
     "execution_count": 77,
     "metadata": {},
     "output_type": "execute_result"
    }
   ],
   "source": [
    "#excluír as linhas duplicadas \n",
    "\n",
    "df_motorista_coluna_01 = df_motorista_colunas.drop_duplicates(subset=['CPF_CNPJ'])\n",
    "\n",
    "#Exibir a dimensão apos a exclusão do duplicados.\n",
    "\n",
    "df_motorista_coluna_01.shape"
   ]
  },
  {
   "cell_type": "code",
   "execution_count": 78,
   "id": "53d2b897-2838-4121-ad91-eab1b89d6d5c",
   "metadata": {
    "tags": []
   },
   "outputs": [
    {
     "data": {
      "text/plain": [
       "PLACA        0\n",
       "NOME_BASE    7\n",
       "VEICULO      0\n",
       "MOTORISTA    0\n",
       "CPF_CNPJ     0\n",
       "dtype: int64"
      ]
     },
     "execution_count": 78,
     "metadata": {},
     "output_type": "execute_result"
    }
   ],
   "source": [
    "#Verificando os valores nulos\n",
    "\n",
    "df_motorista_coluna_01.isnull().sum()"
   ]
  },
  {
   "cell_type": "code",
   "execution_count": 81,
   "id": "49a00c01-ee6a-43a6-acd5-ebe77fab8e9f",
   "metadata": {
    "tags": []
   },
   "outputs": [
    {
     "data": {
      "text/plain": [
       "PLACA        0\n",
       "NOME_BASE    0\n",
       "VEICULO      0\n",
       "MOTORISTA    0\n",
       "CPF_CNPJ     0\n",
       "dtype: int64"
      ]
     },
     "execution_count": 81,
     "metadata": {},
     "output_type": "execute_result"
    }
   ],
   "source": [
    "#Verificando os valores nulos\n",
    "df_motorista_coluna_01[df_motorista_coluna_01['NOME_BASE'].isna()]\n",
    "\n",
    "#Modificando os valores nulos por 'BASE DESCONHECIDA'\n",
    "df_motorista_coluna_01['NOME_BASE'].fillna('BASE DESCONHECIDA', inplace=True)\n",
    "\n",
    "#Verificando se ainda existem missings\n",
    "df_motorista_coluna_01.isnull().sum()"
   ]
  },
  {
   "cell_type": "code",
   "execution_count": 83,
   "id": "51187554-7b7b-44e1-99c9-ac4e761127a4",
   "metadata": {
    "tags": []
   },
   "outputs": [
    {
     "data": {
      "text/plain": [
       "array(['FIORINO', 'Moto', 'PASSEIO', 'Utilitário', 'HR-Furgão', 'Truck',\n",
       "       'Camionete', 'Furgao', 'VUC', '3/4', 'Baú', 'VAN'], dtype=object)"
      ]
     },
     "execution_count": 83,
     "metadata": {},
     "output_type": "execute_result"
    }
   ],
   "source": [
    "#Verificando o tipo de veiculo que possuim no dataframe\n",
    "df_motorista_coluna_01['VEICULO'].unique()"
   ]
  },
  {
   "cell_type": "code",
   "execution_count": 84,
   "id": "d06d5a4e-04da-4a9e-8380-1de2c30bf631",
   "metadata": {
    "tags": []
   },
   "outputs": [],
   "source": [
    "# Adequando os nomes do Veículos\n",
    "\n",
    "df_motorista_coluna_01['VEICULO'] = df_motorista_coluna_01['VEICULO'].replace('FIORINO','CARRO')\n",
    "\n",
    "df_motorista_coluna_01['VEICULO'] = df_motorista_coluna_01['VEICULO'].replace('PASSEIO','CARRO')\n",
    "\n",
    "df_motorista_coluna_01['VEICULO'] = df_motorista_coluna_01['VEICULO'].replace('Utilitário','CARRO')\n",
    "\n",
    "df_motorista_coluna_01['VEICULO'] = df_motorista_coluna_01['VEICULO'].replace('HR-Furgão','CARRO')\n",
    "\n",
    "df_motorista_coluna_01['VEICULO'] = df_motorista_coluna_01['VEICULO'].replace('Truck','CARRO')\n",
    "\n",
    "df_motorista_coluna_01['VEICULO'] = df_motorista_coluna_01['VEICULO'].replace('Camionete','CARRO')\n",
    "\n",
    "df_motorista_coluna_01['VEICULO'] = df_motorista_coluna_01['VEICULO'].replace('Furgao','CARRO')\n",
    "\n",
    "df_motorista_coluna_01['VEICULO'] = df_motorista_coluna_01['VEICULO'].replace('Furgao','CARRO')\n",
    "\n",
    "df_motorista_coluna_01['VEICULO'] = df_motorista_coluna_01['VEICULO'].replace('VUC','CARRO')\n",
    "\n",
    "df_motorista_coluna_01['VEICULO'] = df_motorista_coluna_01['VEICULO'].replace('3/4','CARRO')\n",
    "\n",
    "df_motorista_coluna_01['VEICULO'] = df_motorista_coluna_01['VEICULO'].replace('Baú','CARRO')\n",
    "\n",
    "df_motorista_coluna_01['VEICULO'] = df_motorista_coluna_01['VEICULO'].replace('VAN','CARRO')\n",
    "\n",
    "df_motorista_coluna_01['VEICULO'] = df_motorista_coluna_01['VEICULO'].replace('Moto','MOTO')"
   ]
  },
  {
   "cell_type": "code",
   "execution_count": 86,
   "id": "4c335a9a-37b2-4b16-88f5-07431473e465",
   "metadata": {
    "tags": []
   },
   "outputs": [
    {
     "data": {
      "text/plain": [
       "array(['CARRO', 'MOTO', 'BIKE'], dtype=object)"
      ]
     },
     "execution_count": 86,
     "metadata": {},
     "output_type": "execute_result"
    }
   ],
   "source": [
    "#Buscando os motoristas que são tipo bike e estão especificados no nome.\n",
    "#.loc serve para mostrar somente o atributos especifico\n",
    "#str.contains('BIKE') -> Busca por essa palavras em uma string dentro do atributos\n",
    "#,(VEICULO)] = 'BIKE' -> Muda as linha que está na pesquisa em um nome especificado 'BIKE'\n",
    "\n",
    "\n",
    "df_motorista_coluna_01.loc[df_motorista_coluna_01['MOTORISTA'].str.contains('BIKE'), 'VEICULO'] = 'BIKE'\n",
    "\n",
    "#Exibindo os tipos de veículos\n",
    "df_motorista_coluna_01['VEICULO'].unique()"
   ]
  },
  {
   "cell_type": "code",
   "execution_count": 99,
   "id": "047e8c68-add3-490f-81c8-fd47d6874872",
   "metadata": {
    "tags": []
   },
   "outputs": [
    {
     "name": "stdout",
     "output_type": "stream",
     "text": [
      "Arquivo ./silver/motorista.csv enviado para silver/motorista.csv no bucket produtos_entregues.\n"
     ]
    }
   ],
   "source": [
    "#Salvando localmente na pasta silver\n",
    "df_motorista_coluna_01.to_csv('./silver/motorista.csv',encoding='utf-8',index=False)\n",
    "\n",
    "#Salvando no storage do CGP na camada SILVER\n",
    "upload_blob('produtos_entregues','./silver/motorista.csv','silver/motorista.csv')"
   ]
  },
  {
   "cell_type": "code",
   "execution_count": 95,
   "id": "e6154294-51a9-4242-bab8-c8882794c41b",
   "metadata": {
    "tags": []
   },
   "outputs": [
    {
     "name": "stdout",
     "output_type": "stream",
     "text": [
      "Arquivo ./silver/valores_entregas.csv enviado para silver/valores_entregas.csv no bucket produtos_entregues.\n"
     ]
    }
   ],
   "source": [
    "#Salvando a planilha de valores das entregas no Storage do GCP na camada silver\n",
    "\n",
    "upload_blob('produtos_entregues','./silver/valores_entregas.csv','silver/valores_entregas.csv')"
   ]
  }
 ],
 "metadata": {
  "kernelspec": {
   "display_name": "Python 3 (ipykernel)",
   "language": "python",
   "name": "python3"
  },
  "language_info": {
   "codemirror_mode": {
    "name": "ipython",
    "version": 3
   },
   "file_extension": ".py",
   "mimetype": "text/x-python",
   "name": "python",
   "nbconvert_exporter": "python",
   "pygments_lexer": "ipython3",
   "version": "3.11.5"
  }
 },
 "nbformat": 4,
 "nbformat_minor": 5
}
